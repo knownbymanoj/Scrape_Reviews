{
 "cells": [
  {
   "cell_type": "code",
   "execution_count": 1,
   "id": "af28f011",
   "metadata": {},
   "outputs": [],
   "source": [
    "from flask import Flask, render_template, request, jsonify"
   ]
  },
  {
   "cell_type": "code",
   "execution_count": 3,
   "id": "fc13770f",
   "metadata": {},
   "outputs": [],
   "source": [
    "from bs4 import BeautifulSoup as bs"
   ]
  },
  {
   "cell_type": "code",
   "execution_count": 4,
   "id": "75e25518",
   "metadata": {},
   "outputs": [],
   "source": [
    "from urllib.request import urlopen as urReq"
   ]
  },
  {
   "cell_type": "code",
   "execution_count": 8,
   "id": "337309da",
   "metadata": {},
   "outputs": [],
   "source": [
    "amazon_url = \"https://www.amazon.it/s?k=iphone+14+pro\""
   ]
  },
  {
   "cell_type": "code",
   "execution_count": 18,
   "id": "2110ac76",
   "metadata": {},
   "outputs": [
    {
     "data": {
      "text/plain": [
       "'https://www.amazon.it/s?k=iphone+14+pro'"
      ]
     },
     "execution_count": 18,
     "metadata": {},
     "output_type": "execute_result"
    }
   ],
   "source": [
    "amazon_url"
   ]
  },
  {
   "cell_type": "code",
   "execution_count": 19,
   "id": "e7c0b3bd",
   "metadata": {},
   "outputs": [],
   "source": [
    "response_website = urReq(amazon_url)"
   ]
  },
  {
   "cell_type": "code",
   "execution_count": 20,
   "id": "f13c03af",
   "metadata": {},
   "outputs": [],
   "source": [
    "data_amazon = response_website.read()# This information is not readable"
   ]
  },
  {
   "cell_type": "code",
   "execution_count": 22,
   "id": "f924aaf3",
   "metadata": {},
   "outputs": [],
   "source": [
    "#So we use BeautifulSoup to represent the Source code beautifully\n",
    "beautify_html = bs(data_amazon,\"html.parser\")"
   ]
  },
  {
   "cell_type": "code",
   "execution_count": 26,
   "id": "d151a165",
   "metadata": {},
   "outputs": [],
   "source": [
    "#Get list of all classes available in div tags.\n",
    "classes = beautify_html.find_all(\"div\",{\"class\":\"sg-col-4-of-12 s-result-item s-asin sg-col-4-of-16 sg-col s-widget-spacing-small sg-col-4-of-20\"})"
   ]
  },
  {
   "cell_type": "code",
   "execution_count": 27,
   "id": "bffefabf",
   "metadata": {},
   "outputs": [
    {
     "data": {
      "text/plain": [
       "48"
      ]
     },
     "execution_count": 27,
     "metadata": {},
     "output_type": "execute_result"
    }
   ],
   "source": [
    "#number of items available\n",
    "len(classes)"
   ]
  },
  {
   "cell_type": "code",
   "execution_count": 59,
   "id": "316f4861",
   "metadata": {},
   "outputs": [
    {
     "data": {
      "text/plain": [
       "'/Apple-iPhone-14-Pro-128/dp/B0BDKWLP8P'"
      ]
     },
     "execution_count": 59,
     "metadata": {},
     "output_type": "execute_result"
    }
   ],
   "source": [
    "classes[0].div.div.h2.a['href']"
   ]
  },
  {
   "cell_type": "code",
   "execution_count": 64,
   "id": "9926514e",
   "metadata": {},
   "outputs": [
    {
     "data": {
      "text/plain": [
       "'https://www.amazon.it/Apple-iPhone-14-Pro-128/dp/B0BDKWLP8P'"
      ]
     },
     "execution_count": 64,
     "metadata": {},
     "output_type": "execute_result"
    }
   ],
   "source": [
    "\"https://www.amazon.it\" + '/Apple-iPhone-14-Pro-128/dp/B0BDKWLP8P'"
   ]
  },
  {
   "cell_type": "code",
   "execution_count": null,
   "id": "009006ee",
   "metadata": {},
   "outputs": [],
   "source": []
  },
  {
   "cell_type": "code",
   "execution_count": null,
   "id": "a07eacbc",
   "metadata": {},
   "outputs": [],
   "source": []
  }
 ],
 "metadata": {
  "kernelspec": {
   "display_name": "Python 3 (ipykernel)",
   "language": "python",
   "name": "python3"
  },
  "language_info": {
   "codemirror_mode": {
    "name": "ipython",
    "version": 3
   },
   "file_extension": ".py",
   "mimetype": "text/x-python",
   "name": "python",
   "nbconvert_exporter": "python",
   "pygments_lexer": "ipython3",
   "version": "3.9.12"
  }
 },
 "nbformat": 4,
 "nbformat_minor": 5
}
