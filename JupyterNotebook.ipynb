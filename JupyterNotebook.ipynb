{
 "cells": [
  {
   "cell_type": "code",
   "execution_count": 15,
   "id": "af28f011",
   "metadata": {},
   "outputs": [],
   "source": [
    "from flask import Flask, render_template, request, jsonify"
   ]
  },
  {
   "cell_type": "code",
   "execution_count": 16,
   "id": "2b2afdeb",
   "metadata": {},
   "outputs": [],
   "source": [
    "import requests"
   ]
  },
  {
   "cell_type": "code",
   "execution_count": 2,
   "id": "fc13770f",
   "metadata": {},
   "outputs": [],
   "source": [
    "from bs4 import BeautifulSoup as bs"
   ]
  },
  {
   "cell_type": "code",
   "execution_count": 3,
   "id": "75e25518",
   "metadata": {},
   "outputs": [],
   "source": [
    "from urllib.request import urlopen as urReq"
   ]
  },
  {
   "cell_type": "code",
   "execution_count": 4,
   "id": "337309da",
   "metadata": {},
   "outputs": [],
   "source": [
    "amazon_url = \"https://www.amazon.it/s?k=iphone+14+pro\""
   ]
  },
  {
   "cell_type": "code",
   "execution_count": 5,
   "id": "2110ac76",
   "metadata": {},
   "outputs": [
    {
     "data": {
      "text/plain": [
       "'https://www.amazon.it/s?k=iphone+14+pro'"
      ]
     },
     "execution_count": 5,
     "metadata": {},
     "output_type": "execute_result"
    }
   ],
   "source": [
    "amazon_url"
   ]
  },
  {
   "cell_type": "code",
   "execution_count": 6,
   "id": "e7c0b3bd",
   "metadata": {},
   "outputs": [],
   "source": [
    "response_website = urReq(amazon_url)"
   ]
  },
  {
   "cell_type": "code",
   "execution_count": 7,
   "id": "f13c03af",
   "metadata": {},
   "outputs": [],
   "source": [
    "data_amazon = response_website.read()# This information is not readable"
   ]
  },
  {
   "cell_type": "code",
   "execution_count": 8,
   "id": "f924aaf3",
   "metadata": {},
   "outputs": [],
   "source": [
    "#So we use BeautifulSoup to represent the Source code beautifully\n",
    "beautify_html = bs(data_amazon,\"html.parser\")"
   ]
  },
  {
   "cell_type": "code",
   "execution_count": 9,
   "id": "d151a165",
   "metadata": {},
   "outputs": [],
   "source": [
    "#Get list of all classes available in div tags.\n",
    "classes = beautify_html.find_all(\"div\",{\"class\":\"sg-col-4-of-12 s-result-item s-asin sg-col-4-of-16 sg-col s-widget-spacing-small sg-col-4-of-20\"})"
   ]
  },
  {
   "cell_type": "code",
   "execution_count": 10,
   "id": "bffefabf",
   "metadata": {},
   "outputs": [
    {
     "data": {
      "text/plain": [
       "48"
      ]
     },
     "execution_count": 10,
     "metadata": {},
     "output_type": "execute_result"
    }
   ],
   "source": [
    "#number of items available\n",
    "len(classes)"
   ]
  },
  {
   "cell_type": "code",
   "execution_count": 11,
   "id": "316f4861",
   "metadata": {},
   "outputs": [
    {
     "data": {
      "text/plain": [
       "'/Apple-iPhone-14-Pro-128/dp/B0BDKWLP8P'"
      ]
     },
     "execution_count": 11,
     "metadata": {},
     "output_type": "execute_result"
    }
   ],
   "source": [
    "classes[0].div.div.h2.a['href']"
   ]
  },
  {
   "cell_type": "code",
   "execution_count": 40,
   "id": "9926514e",
   "metadata": {},
   "outputs": [],
   "source": [
    "product1 = \"https://www.amazon.it\" + \"/Apple-iPhone-14-Pro-128/dp/B0BDKWLP8P\""
   ]
  },
  {
   "cell_type": "code",
   "execution_count": 67,
   "id": "009006ee",
   "metadata": {},
   "outputs": [],
   "source": [
    "product11 = requests.get(product1)"
   ]
  },
  {
   "cell_type": "code",
   "execution_count": 68,
   "id": "89885fb8",
   "metadata": {},
   "outputs": [
    {
     "data": {
      "text/plain": [
       "'https://www.amazon.it/Apple-iPhone-14-Pro-128/dp/B0BDKWLP8P'"
      ]
     },
     "execution_count": 68,
     "metadata": {},
     "output_type": "execute_result"
    }
   ],
   "source": [
    "product1"
   ]
  },
  {
   "cell_type": "code",
   "execution_count": 69,
   "id": "83d10c40",
   "metadata": {},
   "outputs": [],
   "source": [
    "product11.encoding=\"utf-8\""
   ]
  },
  {
   "cell_type": "code",
   "execution_count": 70,
   "id": "a07eacbc",
   "metadata": {},
   "outputs": [],
   "source": [
    "product1_page=bs(product11.text,\"html.parser\")"
   ]
  },
  {
   "cell_type": "code",
   "execution_count": 77,
   "id": "7b66bde2",
   "metadata": {},
   "outputs": [],
   "source": [
    "all_reviews = product1_page.find_all('div',{'class':'a-row a-spacing-small review-data'})"
   ]
  },
  {
   "cell_type": "code",
   "execution_count": 92,
   "id": "2ef40189",
   "metadata": {},
   "outputs": [
    {
     "data": {
      "text/plain": [
       "7"
      ]
     },
     "execution_count": 92,
     "metadata": {},
     "output_type": "execute_result"
    }
   ],
   "source": [
    "#No of list available is \n",
    "len(product1_page.find_all('div',{'class':'a-expander-content reviewText review-text-content a-expander-partial-collapse-content'}))"
   ]
  },
  {
   "cell_type": "code",
   "execution_count": 97,
   "id": "49ef60b1",
   "metadata": {},
   "outputs": [
    {
     "data": {
      "text/plain": [
       "<div class=\"a-expander-collapsed-height a-row a-expander-container a-expander-partial-collapse-container\" data-a-expander-collapsed-height=\"300\" data-a-expander-name=\"review_text_read_more\" style=\"max-height:300px\"><div aria-expanded=\"false\" class=\"a-expander-content reviewText review-text-content a-expander-partial-collapse-content\" data-hook=\"review-collapsed\"><div class=\"a-section a-spacing-small a-spacing-top-mini video-block\" id=\"video-block-R3R4IRU8X83O06\">\n",
       "<div class=\"cr-video-desktop cr-video-desktop-placeholder\" data-review-id=\"R3R4IRU8X83O06\" data-thumbnail-url=\"https://m.media-amazon.com/images/I/51cq1lW-J3L._SY256._SY256.jpg\" data-video-url=\"https://m.media-amazon.com/images/S/vse-vms-transcoding-artifact-eu-west-1-prod/e8a8bdc5-2220-49f7-b31a-204e585b56b3/default.jobtemplate.hls.m3u8\" id=\"review-video-id-R3R4IRU8X83O06\">\n",
       "<div class=\"cr-media-status-container\">\n",
       "<span class=\"a-spinner a-spinner-medium cr-media-spinner\"></span>\n",
       "<span class=\"a-color-inverse cr-media-error-msg\">\n",
       "                    Impossibile caricare il contenuto multimediale.\n",
       "                </span>\n",
       "</div>\n",
       "</div>\n",
       "</div><input class=\"video-url\" name=\"\" type=\"hidden\" value=\"https://m.media-amazon.com/images/S/vse-vms-transcoding-artifact-eu-west-1-prod/e8a8bdc5-2220-49f7-b31a-204e585b56b3/default.jobtemplate.mp4.480.mp4\"/><input class=\"video-slate-img-url\" name=\"\" type=\"hidden\" value=\"https://m.media-amazon.com/images/I/51cq1lW-J3L._SY256._SY256.jpg\"/>\n",
       "<span> ***UPDATE DOPO 3 SETTIMANE DI UTILIZZO***<br/>Premetto che non sono mai stato un fan boy Apple, mai, ma bisogna dare credito a quanto Apple sia avanti anni luce rispetto ad altri competitor.<br/>Dire che questo sia lo smartphone migliore che io abbia mai avuto è riduttivo, certo passo da un rugged e da un iphone 8 a questo 14 Pro, ben 5 generazioni dopo ed è cambiato praticamente tutto.<br/>Lo schermo è un qualcosa di incredibile, si vede che il refresh rate è altissimo, vedere video con fps maggiori di 30 è un vero piacere per gli occhi. La reattività del touch è fenomenale come mai ho avuto modo di provare in passato. Anche usare il telefono in condizioni di molta luce non sarà più un problema.<br/>Per il pacco fotocamera non ho nulla da aggiungere, ero stato entusiasta i primi giorni di utilizzo e lo sono ancora di più ora, alcune volte sembra di avere una fotocamera professionale in mano che riesce a sorprendere anche con tutte le impostazioni messe in automatico. Le foto notturne hanno finalmente un dettaglio elevato, così come i selfie (occhio perchè tutti i difettini vengono messi molto in risalto xD)<br/>Il comparto audio è pazzesco, qualsiasi tipo di musica o suono verrà riprodotto in una maniera incredibile, si sente davvero, davvero bene con anche una discreta potenza. La suoneria la sentirete sempre, anche con rumori esterni elevati.<br/>Le chiamate sono nitide, sento benissimo ed anche dall'altro lato chi mi ascolta mi ha detto immediatamente che la qualità del microfono è al di sopra della media.<br/>Lo storage da 128Gb è davvero abbondante se non siete persone che usano 3mila app e fanno 3mila video (per le foto io ho risolto collegandolo al mio account Amazon Photos con spazio illimitato essendo utente Prime)<br/>Ciò che impressiona maggiormente è la reattività, parlando prettamente della velocità di esecuzione dei task non posso fare altro che alzare le mani, il chip A16 insieme a tutto il comparto hw computazionale è un vero e proprio diamante che farà schizzare a velocità supersonica qualsiasi cosa abbiate in mente di fare.<br/>iOS16 permette quasi ogni tipo di personalizzazione e vi aiuterà nella gestione super efficiente del vostro iPhone.<br/>Penso che permanga quel vorrei ma non posso dovuto alla capienza della batteria, io arrivo a fare un giorno e messo con rete cellulare e wifi (o 4g) sempre attivi con medio utilizzo dello schermo.<br/>Torno a parlare del prezzo: sì, molto elevato, ma, come dico nella recensione, se avete intenzione di cambiare un telefono ogni 4/5/6 anni sempre con un top di gamma allora questo è sicuramente il telefono che fa per voi, soprattutto se vi serve un telefono davvero funzionale per la vostra vita quotidiana che non deve essere solo un cimelio da mostrare in giro.<br/>Gli update sono molto, molto positivi, darei il 5 stelle con lode a questo piccolo gioiello di tecnologia. Rimangono sicuramente validi tutti gli appunti che ho fatto nella recensione qui in basso, ma non ho scovato nessun altro punto negativo, fenomenale!<br/><br/>Pro:<br/>👍 notch eliminato a favore della pillola molto più carina ed interattiva<br/>👍 fotocamera principale da 48MP<br/>👍 applicazione fotografica eccellente<br/>👍 chip A16 fenomenale<br/>👍 schermo con una luminosità incredibile<br/>👍 rilevazione incidente auto<br/>👍 possibilità SOS via satellite<br/>👍 frequenza aggiornamento display adattativa<br/>👍 always-on display<br/><br/>Contro:<br/>👎 connettore Lightning<br/>👎 durata batteria migliorabile<br/>👎 carica 20W massimi<br/>👎 costo troppo elevato<br/><br/>Voto finale e consiglio di acquisto:<br/>5 - il mio secondo iPhone e sembra di essere andati avanti di 1000 anni luce, tutto elevato all'ennesima potenza, sembra davvero di avere tra le mani un oggetto alieno tanto è perfetto il connubio hardware e software (non che ci sia da essere sorpresi). Eliminazione del notch, introduzione della \"pillola\" molto più efficiente e carina, una fotocamera da 48MP che eleva all'infinito la qualità della resa di tutto il comparto fotografico hw e sw, aggiunte sulla sicurezza come il rilevamento di incidente e l SOS satellitare, tutti elementi che aggiunti a quanto c'era già al top con le versioni precedenti non fanno altro che distruggere la concorrenza. Sì, il costo è proibitivo, ma questi sono smartphone che durano anni e quindi sì, ne vale la pena di fare l'investimento, ma non per apparire come purtroppo la maggior parte delle persone fa, ma proprio per avere un dispositivo che sia longevo e per il quale a meno di sfortune non dovrete cacciare un euro per minimo i prossimi 5 anni. Consigliatissimo e vi spiego il perchè in dettaglio più sotto, nella sezione \"Recensione\", non lunga, ma neanche tanto breve.<br/><br/>Il package contiene :<br/>- n.1 Apple iPhone 14 pro 128Gb Nero Siderale<br/>- n.1 cavo Usb-C / Lightning<br/>- manuali ed istruzioni varie<br/><br/>Specifiche prodotto:<br/>Prodotto : iPhone 14<br/>Brand : ‎Apple<br/>Modello : PRO<br/>Colore : Nero siderale<br/>Dimensioni : 147.5x71.5x7.9mm<br/>Peso : 206g<br/>Chipset : Apple A16 Bionic (4 nm)<br/>CPU : Hexa-core (2x3.46 GHz Avalanche + 4x Blizzard)<br/>GPU : Apple GPU (5-core)<br/>Capacità ROM : 128Gb<br/>Capacità RAM : 6Gb<br/>Display : LTPO Super Retina XDR OLED, 120Hz<br/>Dimensione display : 6.1 inches, 91.7 cm2 (87.0% screen-to-body)<br/>Risoluzione : 1179 x 2556 pixels, 19.5:9<br/>Sd card : No<br/>SIM : Dual SIM (Nano-SIM and eSIM) o Dual eSIM<br/>Fotocamere principali :<br/>* 48 MP, f/1.8, 24mm (wide)<br/>* 12 MP, f/2.8, 77mm (telephoto)<br/>* 12 MP, f/2.2, 13mm, 120˚ (ultrawide)<br/>* TOF 3D LiDAR scanner (depth)<br/>Fotocamere selfie :<br/>* 12 MP, f/1.9, 23mm (wide)<br/>* SL 3D, (depth/biometrics sensor)<br/>Wlan : Wi-Fi 802.11 a/b/g/n/ac/6, dual-band, hotspot<br/>Bluetooth : 5.3<br/>Gps : Sì<br/>NFC : Sì<br/>Batteria : ioni di litio con fast charging 50% in 30 minuti<br/><br/>Recensione:<br/>A livello di design e materiali ci troviamo di fronte a quello che Apple si porta dietro da un paio di generazioni, un connubio di acciaio inossidabile e vetro che sfocia in dimensioni e peso leggerissimamente maggiori rispetto ad iPhone 13 Pro.<br/>Il display OLED è simile ad iPhone 13 PRO per quanto rigurda tecnologia e ppi, però presenta una risoluzione maggiore ed un aumento sostanzioso della luminosità capace di affrontare egregiamente giornate con sole pieno. A livello di connubio hardware e software il cambiamento principale è l'eliminazione del notch con l'introduzione del Dynamic Island. Ma cosa è? Praticamente si tratta di uno spazio posto in alto sul display dove risiedono la fotocamera selfie ed il sensore depth che viene utilizzato sia per notifiche che per accedere a funzionalità. Tale spazio ha la capacità di ingrandirsi e rimpicciolirsi visivamente (non fisicamente) a seconda dell'attività in atto e dipenderà tutto da quello che l'utente sta facendo, anche interagendo con la medesima (cioè uno scroll col dito sull'isola potrà farne cambiare la forma). Voglio essere sincero, è uno spettacolo vederlo in azione: ad esempio se riproducete un brano musicale e poi tornate nella schermata principale vedrete nella pillola una piccola finestra con un player, la copertina dell'album e le informazioni sul brano riprodotto, premendo poi sull isola apparirà un pop-up con altre informazioni. Ma non è tutto: se viene avviato un timer verrà visualizzato anch'esso sulla pillola!!!<br/>Sempre parlando di display, è stata introdotta la modalità \"sempre acceso\" che si attiva premendo il pulsante laterale e che vi permetterà di visualizzare notifiche e quant'altro con il minimo consumo di batteria, io mi ci sono trovato benissimo. Inoltre, come già accennavo in precedenza, è presente la frequenza di aggiornamento variabile, altra manna dal cielo per la durata della batteria: in pratica il refresh rate aumenterà solo quando vi è interazione o necessità e sarà basso quando starete visualizzando ad esempio le notifiche, davvero un qualcosa di graditissimo anche perchè non ve ne accorgerete minimamente.<br/>Insomma, il display è un qualcosa di fantastico sia a livello visivo che ingegneristico/funzionale.<br/>I pulsanti presenti sono praticamente gli stessi: accensione/spegnimento/chiamata Siri, controllor del volume, levetta per silenziare. Vi è poi lo slot laterale per la sim. Il connettore è rimasto Lightning, cosa che non mi piace per nulla, ma a breve Apple dovrà cambiare per forza ed adattarsi ai nuovi standard (finalmente).<br/>La batteria dura effettivamente circa 24 ore con un uso abbastanza intensivo, rimane sempre pochino per il prezzo pagato, soprattutto se il wattaggio massimo di ricarica è di 20W.C'è sempre il fast charging che vi ricarica il 50% in 30 minuti.<br/>Il cuore di questo iPhone è secondo me la punta di diamante ed il vero passo avanti generazionale, sto parlando del chip A16. Questo, in collaborazione con la GPU, il Neural Engine ed il processore di immagini genera una risposta fluida, immediata, senza alcun delay anche con i giochi più pesanti, ma questo non mi ha assolutamente sorpreso perchè Apple è brava sicuramente in una cosa: sviluppare hardware che viaggia al massimo grazie al suo software quasi senza lacune. Di fatti tutti i vantaggi prestazionali affiorano grazie ad iOS 16 che è stato praticamente sviluppato per andare a braccetto con il chip A16 per sfruttarlo ai massimi livelli. Il nuovo sistema operativo porta con se nuove soluzioni anche a livello estetico come la nuova schermata di blocco, i nuovi widget personalizzabili ove poter far apparire informazioni multiple.<br/>Il comparto fotografico vi dico immediatamente che ha fatto un enorme passo avanti con le foto in situazioni di scarsa luminosità, un qualcosa di incredibile.<br/>Abbiamo l'introduzione di un sensore principale da 48MP ed un sensibile miglioramente degli altri due (tre se consideriamo quello depth), dunque vi è un vero e proprio upgrade rispetto ad iPhone 13 PRO. Il sensore principale ha la caratteristica di riuscire a fondere 4 pixel e combinarli in uno unico per migliorare l'acquisizione in condizioni di scarsa luminosità, cosa che già viene fatta su Android ma i cui risultati non sono assolutamente paragonabili e sbalorditivi come su iphone 14 PRO, questo anche grazie al nuovo sistema hw pipeline di immagini denominato Photonic Engine. Lo zoom ottico è rimasto 3x, ma è stata introdotta una funzionalità per fondersi con quello nuovo da 48MP per creare foto 2x a 12 MP che vi dico già sono strepitose. Per il comparto video vi è una nuova modalità action con registrazioni molto più fluide e la possibilità di usare la modalità cinema 4k<br/><br/>Prezzo su Amazon al momento della recensione : 1.339,00€</span>\n",
       "</div><div class=\"a-expander-header a-expander-partial-collapse-header\"><div class=\"a-expander-content-fade\"></div><a aria-expanded=\"false\" aria-label=\"Attiva/disattiva testo di revisione completa\" class=\"a-declarative\" data-a-expander-toggle='{\"allowLinkDefault\":true, \"expand_prompt\":\"Leggi di più\", \"collapse_prompt\":\"Leggi meno\"}' data-action=\"a-expander-toggle\" data-csa-c-func-deps=\"aui-da-a-expander-toggle\" data-csa-c-type=\"widget\" data-csa-interaction-events=\"click\" data-hook=\"expand-collapse-read-more-less\" href=\"javascript:void(0)\" role=\"button\"><i class=\"a-icon a-icon-extender-expand\"></i><span class=\"a-expander-prompt\">Leggi di più</span></a></div></div>"
      ]
     },
     "execution_count": 97,
     "metadata": {},
     "output_type": "execute_result"
    }
   ],
   "source": [
    "all_reviews[1].div"
   ]
  },
  {
   "cell_type": "code",
   "execution_count": null,
   "id": "60c7fb6e",
   "metadata": {},
   "outputs": [],
   "source": []
  }
 ],
 "metadata": {
  "kernelspec": {
   "display_name": "Python 3 (ipykernel)",
   "language": "python",
   "name": "python3"
  },
  "language_info": {
   "codemirror_mode": {
    "name": "ipython",
    "version": 3
   },
   "file_extension": ".py",
   "mimetype": "text/x-python",
   "name": "python",
   "nbconvert_exporter": "python",
   "pygments_lexer": "ipython3",
   "version": "3.9.12"
  }
 },
 "nbformat": 4,
 "nbformat_minor": 5
}
