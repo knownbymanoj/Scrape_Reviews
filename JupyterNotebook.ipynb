{
 "cells": [
  {
   "cell_type": "code",
   "execution_count": 1,
   "id": "af28f011",
   "metadata": {},
   "outputs": [],
   "source": [
    "from flask import Flask, render_template, request, jsonify"
   ]
  },
  {
   "cell_type": "code",
   "execution_count": 2,
   "id": "2b2afdeb",
   "metadata": {},
   "outputs": [],
   "source": [
    "import requests"
   ]
  },
  {
   "cell_type": "code",
   "execution_count": 3,
   "id": "fc13770f",
   "metadata": {},
   "outputs": [],
   "source": [
    "from bs4 import BeautifulSoup as bs"
   ]
  },
  {
   "cell_type": "code",
   "execution_count": 4,
   "id": "75e25518",
   "metadata": {},
   "outputs": [],
   "source": [
    "from urllib.request import urlopen as urReq"
   ]
  },
  {
   "cell_type": "code",
   "execution_count": 5,
   "id": "337309da",
   "metadata": {},
   "outputs": [],
   "source": [
    "amazon_url = \"https://www.amazon.it/s?k=iphone+14+pro\""
   ]
  },
  {
   "cell_type": "code",
   "execution_count": 6,
   "id": "2110ac76",
   "metadata": {},
   "outputs": [
    {
     "data": {
      "text/plain": [
       "'https://www.amazon.it/s?k=iphone+14+pro'"
      ]
     },
     "execution_count": 6,
     "metadata": {},
     "output_type": "execute_result"
    }
   ],
   "source": [
    "amazon_url"
   ]
  },
  {
   "cell_type": "code",
   "execution_count": 7,
   "id": "e7c0b3bd",
   "metadata": {},
   "outputs": [],
   "source": [
    "response_website = urReq(amazon_url)"
   ]
  },
  {
   "cell_type": "code",
   "execution_count": 8,
   "id": "f13c03af",
   "metadata": {},
   "outputs": [],
   "source": [
    "data_amazon = response_website.read()# This information is not readable"
   ]
  },
  {
   "cell_type": "code",
   "execution_count": 9,
   "id": "f924aaf3",
   "metadata": {},
   "outputs": [],
   "source": [
    "#So we use BeautifulSoup to represent the Source code beautifully\n",
    "beautify_html = bs(data_amazon,\"html.parser\")"
   ]
  },
  {
   "cell_type": "code",
   "execution_count": 10,
   "id": "d151a165",
   "metadata": {},
   "outputs": [],
   "source": [
    "#Get list of all classes available in div tags.\n",
    "classes = beautify_html.find_all(\"div\",{\"class\":\"sg-col-4-of-12 s-result-item s-asin sg-col-4-of-16 sg-col s-widget-spacing-small sg-col-4-of-20\"})"
   ]
  },
  {
   "cell_type": "code",
   "execution_count": 11,
   "id": "bffefabf",
   "metadata": {},
   "outputs": [
    {
     "data": {
      "text/plain": [
       "48"
      ]
     },
     "execution_count": 11,
     "metadata": {},
     "output_type": "execute_result"
    }
   ],
   "source": [
    "#number of items available\n",
    "len(classes)"
   ]
  },
  {
   "cell_type": "code",
   "execution_count": 12,
   "id": "316f4861",
   "metadata": {},
   "outputs": [
    {
     "data": {
      "text/plain": [
       "'/Apple-iPhone-14-Pro-128/dp/B0BDKF6GS9'"
      ]
     },
     "execution_count": 12,
     "metadata": {},
     "output_type": "execute_result"
    }
   ],
   "source": [
    "classes[0].div.div.h2.a['href']"
   ]
  },
  {
   "cell_type": "code",
   "execution_count": 13,
   "id": "9926514e",
   "metadata": {},
   "outputs": [],
   "source": [
    "product1 = \"https://www.amazon.it\" + \"/Apple-iPhone-14-Pro-128/dp/B0BDKWLP8P\""
   ]
  },
  {
   "cell_type": "code",
   "execution_count": 14,
   "id": "009006ee",
   "metadata": {},
   "outputs": [],
   "source": [
    "product11 = requests.get(product1)"
   ]
  },
  {
   "cell_type": "code",
   "execution_count": 15,
   "id": "89885fb8",
   "metadata": {},
   "outputs": [
    {
     "data": {
      "text/plain": [
       "'https://www.amazon.it/Apple-iPhone-14-Pro-128/dp/B0BDKWLP8P'"
      ]
     },
     "execution_count": 15,
     "metadata": {},
     "output_type": "execute_result"
    }
   ],
   "source": [
    "product1"
   ]
  },
  {
   "cell_type": "code",
   "execution_count": 16,
   "id": "83d10c40",
   "metadata": {},
   "outputs": [],
   "source": [
    "product11.encoding=\"utf-8\""
   ]
  },
  {
   "cell_type": "code",
   "execution_count": 17,
   "id": "a07eacbc",
   "metadata": {},
   "outputs": [],
   "source": [
    "product1_page=bs(product11.text,\"html.parser\")"
   ]
  },
  {
   "cell_type": "code",
   "execution_count": 18,
   "id": "7b66bde2",
   "metadata": {},
   "outputs": [],
   "source": [
    "all_reviews = product1_page.find_all('div',{'class':'a-section celwidget'})"
   ]
  },
  {
   "cell_type": "code",
   "execution_count": 19,
   "id": "2ef40189",
   "metadata": {},
   "outputs": [
    {
     "data": {
      "text/plain": [
       "8"
      ]
     },
     "execution_count": 19,
     "metadata": {},
     "output_type": "execute_result"
    }
   ],
   "source": [
    "#No of list available is \n",
    "len(all_reviews)"
   ]
  },
  {
   "cell_type": "code",
   "execution_count": 20,
   "id": "49ef60b1",
   "metadata": {},
   "outputs": [],
   "source": [
    "rating = all_reviews[1].find_all('a', {'class':\"a-link-normal\"})[0].text\n"
   ]
  },
  {
   "cell_type": "code",
   "execution_count": 21,
   "id": "60c7fb6e",
   "metadata": {},
   "outputs": [],
   "source": [
    "name = all_reviews[1].find_all('div',{'class':'a-profile-content'})[0].text"
   ]
  },
  {
   "cell_type": "code",
   "execution_count": 22,
   "id": "30ee77ef",
   "metadata": {},
   "outputs": [
    {
     "data": {
      "text/plain": [
       "\n",
       "Chi critica questo 14 Pro non ha capito nulla e vi spiego perché"
      ]
     },
     "execution_count": 22,
     "metadata": {},
     "output_type": "execute_result"
    }
   ],
   "source": [
    "bs(all_reviews[1].find_all('a',{'class':'a-size-base a-link-normal review-title a-color-base review-title-content a-text-bold'})[0].text,'html.parser')"
   ]
  },
  {
   "cell_type": "code",
   "execution_count": 23,
   "id": "15b0fc6d",
   "metadata": {},
   "outputs": [],
   "source": [
    "comment = bs(all_reviews[1].find_all('div',{'class':\"a-expander-content reviewText review-text-content a-expander-partial-collapse-content\"})[0].text,'html.parser')"
   ]
  },
  {
   "cell_type": "code",
   "execution_count": 24,
   "id": "012edbda",
   "metadata": {},
   "outputs": [],
   "source": [
    "place_date = all_reviews[1].find_all('span',{'class':'a-size-base a-color-secondary review-date'})[0].text"
   ]
  },
  {
   "cell_type": "code",
   "execution_count": 25,
   "id": "4b232018",
   "metadata": {},
   "outputs": [],
   "source": [
    "price=product1_page.find_all('span',{'class':'a-offscreen'})[0].text"
   ]
  },
  {
   "cell_type": "code",
   "execution_count": 26,
   "id": "dde99af7",
   "metadata": {},
   "outputs": [
    {
     "name": "stdout",
     "output_type": "stream",
     "text": [
      "1\n",
      "Angelo D'Amico (Realdamico) 5,0 su 5 stelle \n",
      "Chi critica questo 14 Pro non ha capito nulla e vi spiego perché\n",
      " \n",
      "👇 CARATTERISTICHE TECNICHE 👇Tanto chiacchiericcio prima dell’uscita di questo iPhone, che anche se suona come una provocazione, è il migliore mai fatto dalla Apple, ed è vero. Il cambiamento principale è l'eliminazione del notch con l'introduzione del Dynamic Island, ovvero come trasformare qualcosa di brutto in qualcosa di estremamente utile e funzionale.Questo spazio extra nel display principale è la soluzione a tutte quelle funzionalità di secondaria importanza per cui dovevamo chiudere o skippare un app. Grazie a questa novità, mettere una canzone e vedere l’anteprima, o magari leggere le notifiche direttamente in home (e tanto altro) non sarà piu un problema.Da un punto di vista dell’esperienza è qualcosa di unico, che sono sicuro anche chi sviluppa Android sta sviluppando. Ancora da un punto di vista pratico ci sono delle migliorie da fare, ma parliamo sempre di qualcosa uscita pochi giorni fa. Diamo tempo e fiducia a questa novità rivoluzionaria di Apple.Non voglio parlare di iOS16 che lascia ancora a desiderare, ma le nuove funzionalità si sposa benissimo con questo 14 Pro, ed è anche per questo forse che i modelli precedenti non girano allo stesso modo di iOS 15 (dal 12 a scendere).Sotto parlerò di batteria, anche se non ci sono molte novità sostanziali, praticamente non ci sono novità. Cosa diversa invece per la fotocamera, che presenta molte piccole migliorie che adesso approfondirò.📷 FOTOCAMERA 📷Credo che questa per molti sia la motivazione che ha portato a scegliere questo iPhone 14 Pro. Abbiamo una fotocamera migliorata rispetto alla precedente edizione.Le differenze si fanno notare se fate contenuti, quindi se fate un lavoro di edit delle foto scattate dall’iPhone. I 48 MP (che potete sfruttare con ProRes su 256GB) si fanno sentire. Senza scendere nei particolari dell’editing, basta allargare una foto e vedere come rispetto a un modello precedente, i dettagli zoommati di una foto siano dettagli, e non un accumulo di pixel che quasi non fa riconoscere il soggetto dello scatto. Differenza che risalta ancora di piu in condizioni di poca luce. Sintesi? Foto meno pixelate.Se non dovete fare dei contenuti, rispetto a quella della del 13 Pro Max non vedrete differenze sostanziali. Ma le differenze ci sono, e come detto sono sempre relative ai dettagli che la fotocamera riprende in uno scatto (anche in 2x).Aspetto positivo che anche le foto che sfruttano i 48MP escono come peso e dimensioni leggermente inferiori rispetto a quelle del Pro dell’anno passato, il 13.Non abbiamo parlato di video, e qui fa la differenza la stabilizzazione della fotocamera. Secondo me Apple l’ha pompata troppo, ma in attesa di quello che uscirà fuori nei prossimi mesi, quindi diciamo che si stanno preparando a qualcosa di nuovo e forse rivoluzionario sui prossimi iPhone, che qui hanno solo voluto inserire a mani basse. La stabilizzazione è migliore rispetto al 13 Pro, ma non troppo. Per certi tipi di scatti, si una una action cam, quindi l’action mode allo stato attuale serve a poco a mio modo di vedere, anche perché non potete registrare in 4k, quindi su questo aspetto Apple non mi ha convinto. Vedremo nella prossima generazione.Anche la modalità cinema è stata migliorata, ma ancora si deve lavorare su quello è lo scontornamento… buono ma non assolutamente preciso. Rimane comunque una differenza sottile. Che secondo me ha ancora bisogno di molto lavoro da parte di Apple. La messa a fuoco è buona, ma questo accade anche nel 13 Pro . Differenze direi non pervenute, anche se provate ad edit.SINTESI: video con poca luce migliori su iPhone 14 Pro (se scattate in ProRes), ma a dispetto di una maggiore memoria occupata. Tutto il resto delle differenze con la versione precedenti sono talmente minime che si fa fatica a notare a persone comune, ma anche i creator faranno difficoltà a notare differenze.📞 14 PRO o 14 PRO MAX 📞Penso che questo sia il dubbio che affligge chi si appresta a comprare il nuovo iPhone: dimensioni compatte o un po’ piu abbondanti. Molto dipende da quello a cui è destinato lo smartphone. In sintesi abbiamo il medesimo iPhone in una versione ingrandita. Questo comporta chiaramente anche un aumento consistente del pese: 240 grammi del Pro Max contro circa 200 della versione base. In tasca si fa sentire, e si fa anche vedere. Dimenticate di metterlo nei taschini delle camicie o delle giacche, sia per una questione di spazio che di pesantezza.Preciso che le camere SONO IDENTICHE e sporgono allo stesso modo. Nessuna differenza. Ovviamente a livello di immagine, con uno schermo piu grande potrete vedere di piu e avrete piu spazio. Una galleria che bella larga per godere appieno di tutto l operato delle vostre fotocamere montate in questi iPhone di ultima generazione.Ciò che invece cambia è la batteria. Qui c’è una bella differenza, credo che all atto pratico vi ritrovate a fine giornata con 20-25 % di carica in piu, che non fa male ovviamente visto l utilizzo intenso che se ne fa in questi giorni.Niente differenze su luminosità e dynamic island. Quindi in sintesi il Max è dedicato a chi ha bisogno di molta batteria, il resto sono tutti dettagli che vanno valutati singolarmente.❌ PROBLEMI e ASPETTI DA CONOSCERE ❌Problemi che non sono problemi, ma dei consigli su delle migliorie che potrebbero venire fuori nei prossimi anni. Intanto il connettore Lightning prima o poi dovrà sparire, non è arrivato ancora il momento, ma penso che sarà questione di pochi anni e poi passeremo a questa entrata comune ormai a tutti i device, che consentirebbe di risparmiare su carica-batterie e cavi.Carica sempre a 20W, buono perché non si devono comprare altri caricatori, ma mi aspettavo qualcosa di piu, correlata a una durata della batteria migliore. Purtroppo non è cosi, e arrivare a fine giornata con la carica buona è ancora un sogno. Se avete questa necessità, comprate Pro Max, l’unico device che comunque vi durerà di piu in casa Apple. Tutto dipende sempre da ciò che fate, ma visto il prezzo di vendita, una batteria migliore non sarebbe male. Tempi di carica piu veloci rispetto a quelli del 13 Pro, ma non troppo: la carica piu o meno e la stessa, abbastanza veloce, anche se dovete sempre rispettare dei corretti cicli di carica per mantenere elevate le prestazioni della batteria.Già detto prima: se volete sfruttare al massimo la vostra fotocamera, dovete ACQUISTARE UNA VERSIONE DA 256GB minimo. La taglia base vi taglierà la possibilità di scattare e registrare e scattare al massimo delle vostre capacità. 100 euro di prezzo in piu per questo salto ci stanno, anche se la partenza base è sempre alta.Dynamic Island ancora ovviamente da migliorare da un punto di vista software, quindi tutte le critiche connesse devono essere posticipate tra qualche mese, visto che purtroppo anche iOS 16 al momento è quasi scandaloso. Indubbiamente comunque è la novità principale di questo device, che può piacere o meno, ma è comunque una genialata.⌛️ PREZZO ⌛️Si è parlato troppo di prezzo. La situazione economica mondiale però è l’aspetto che sta influenzando tutto. Si, rimangono troppi i 1469 euro per i 256 GB, ma Apple è stata sempre molto alta come prezzi, per prodotti che spesso hanno poche migliorie rispetto alle versioni precedenti. Non per questo aspetto si può parlare di device bocciato, e chi lo fa ha davvero voluto fruttare l’onda per fare un po’ di discussioni con conseguenti ritorni.⭕️ CONSIDERAZIONI PERSONALI ⭕️Partiamo subito da un punto: siete creator o semplici utenti?Nel primo caso un passaggio da 13 Pro a questo è giustificato, perchè ci sono tante piccole migliorie che vi faranno comunque registrare e scattare contenuti da editare di alta qualità. Qui la resa su MacBook per voi sarà fondamentale, e in questo 14 Pro è tanta, soprattutto per ciò che concerne il croppaggio.Un utente comunque non ha motivo per passare da un 13 Pro a un 14 Pro, se non per sfizio. Tutte le piccole migliorie di cui ho parlato ci sono e non si possono tralasciare, ma non sono sufficienti a mio modo di vedere per giustificare un massaggio dalla versione precedente. Se già provenite da un modello non Pro o magari dall 11 generazione, allora il passaggio ci sta tutto anche se non siete professionisti.Ovviamente non possono essere considerati i paragoni con le camere di altri device, che spesso sono piu avanti in termini di resa, ma siamo sempre fuori da un ecosistema, quello Apple.L'introduzione del Dynamic Island è quella chicca che ti spinge a comprare questo iPhone, ma ovviamente rimane anche una grande novità da un punto di vista prestazionale, questo non può essere tralasciato come dettaglio. Ancora è presto per dare un giudizio completo, ma quando anche altre app di terze parti saranno compatibili, sarà davvero una svolta per un device che viene sempre piu usato praticamente per fare tutto quello che serve nella vita e che per questo richiede anche la possibilità di poter fare molte piu cose contemporaneamente anche da un punto di vista visivo.\n",
      " 1.339,00€\n",
      "2\n",
      "Tonio Reviews 5,0 su 5 stelle \n",
      "Da iPhone 8 al 14 è un salto nel futuro\n",
      " \n",
      "\n",
      "\n",
      "\n",
      "\n",
      "                    Impossibile caricare il contenuto multimediale.\n",
      "                \n",
      "\n",
      "\n",
      "\n",
      " ***UPDATE DOPO 3 SETTIMANE DI UTILIZZO***Premetto che non sono mai stato un fan boy Apple, mai, ma bisogna dare credito a quanto Apple sia avanti anni luce rispetto ad altri competitor.Dire che questo sia lo smartphone migliore che io abbia mai avuto è riduttivo, certo passo da un rugged e da un iphone 8 a questo 14 Pro, ben 5 generazioni dopo ed è cambiato praticamente tutto.Lo schermo è un qualcosa di incredibile, si vede che il refresh rate è altissimo, vedere video con fps maggiori di 30 è un vero piacere per gli occhi. La reattività del touch è fenomenale come mai ho avuto modo di provare in passato. Anche usare il telefono in condizioni di molta luce non sarà più un problema.Per il pacco fotocamera non ho nulla da aggiungere, ero stato entusiasta i primi giorni di utilizzo e lo sono ancora di più ora, alcune volte sembra di avere una fotocamera professionale in mano che riesce a sorprendere anche con tutte le impostazioni messe in automatico. Le foto notturne hanno finalmente un dettaglio elevato, così come i selfie (occhio perchè tutti i difettini vengono messi molto in risalto xD)Il comparto audio è pazzesco, qualsiasi tipo di musica o suono verrà riprodotto in una maniera incredibile, si sente davvero, davvero bene con anche una discreta potenza. La suoneria la sentirete sempre, anche con rumori esterni elevati.Le chiamate sono nitide, sento benissimo ed anche dall'altro lato chi mi ascolta mi ha detto immediatamente che la qualità del microfono è al di sopra della media.Lo storage da 128Gb è davvero abbondante se non siete persone che usano 3mila app e fanno 3mila video (per le foto io ho risolto collegandolo al mio account Amazon Photos con spazio illimitato essendo utente Prime)Ciò che impressiona maggiormente è la reattività, parlando prettamente della velocità di esecuzione dei task non posso fare altro che alzare le mani, il chip A16 insieme a tutto il comparto hw computazionale è un vero e proprio diamante che farà schizzare a velocità supersonica qualsiasi cosa abbiate in mente di fare.iOS16 permette quasi ogni tipo di personalizzazione e vi aiuterà nella gestione super efficiente del vostro iPhone.Penso che permanga quel vorrei ma non posso dovuto alla capienza della batteria, io arrivo a fare un giorno e messo con rete cellulare e wifi (o 4g) sempre attivi con medio utilizzo dello schermo.Torno a parlare del prezzo: sì, molto elevato, ma, come dico nella recensione, se avete intenzione di cambiare un telefono ogni 4/5/6 anni sempre con un top di gamma allora questo è sicuramente il telefono che fa per voi, soprattutto se vi serve un telefono davvero funzionale per la vostra vita quotidiana che non deve essere solo un cimelio da mostrare in giro.Gli update sono molto, molto positivi, darei il 5 stelle con lode a questo piccolo gioiello di tecnologia. Rimangono sicuramente validi tutti gli appunti che ho fatto nella recensione qui in basso, ma non ho scovato nessun altro punto negativo, fenomenale!Pro:👍 notch eliminato a favore della pillola molto più carina ed interattiva👍 fotocamera principale da 48MP👍 applicazione fotografica eccellente👍 chip A16 fenomenale👍 schermo con una luminosità incredibile👍 rilevazione incidente auto👍 possibilità SOS via satellite👍 frequenza aggiornamento display adattativa👍 always-on displayContro:👎 connettore Lightning👎 durata batteria migliorabile👎 carica 20W massimi👎 costo troppo elevatoVoto finale e consiglio di acquisto:5 - il mio secondo iPhone e sembra di essere andati avanti di 1000 anni luce, tutto elevato all'ennesima potenza, sembra davvero di avere tra le mani un oggetto alieno tanto è perfetto il connubio hardware e software (non che ci sia da essere sorpresi). Eliminazione del notch, introduzione della \"pillola\" molto più efficiente e carina, una fotocamera da 48MP che eleva all'infinito la qualità della resa di tutto il comparto fotografico hw e sw, aggiunte sulla sicurezza come il rilevamento di incidente e l SOS satellitare, tutti elementi che aggiunti a quanto c'era già al top con le versioni precedenti non fanno altro che distruggere la concorrenza. Sì, il costo è proibitivo, ma questi sono smartphone che durano anni e quindi sì, ne vale la pena di fare l'investimento, ma non per apparire come purtroppo la maggior parte delle persone fa, ma proprio per avere un dispositivo che sia longevo e per il quale a meno di sfortune non dovrete cacciare un euro per minimo i prossimi 5 anni. Consigliatissimo e vi spiego il perchè in dettaglio più sotto, nella sezione \"Recensione\", non lunga, ma neanche tanto breve.Il package contiene :- n.1 Apple iPhone 14 pro 128Gb Nero Siderale- n.1 cavo Usb-C / Lightning- manuali ed istruzioni varieSpecifiche prodotto:Prodotto : iPhone 14Brand : ‎AppleModello : PROColore : Nero sideraleDimensioni : 147.5x71.5x7.9mmPeso : 206gChipset : Apple A16 Bionic (4 nm)CPU : Hexa-core (2x3.46 GHz Avalanche + 4x Blizzard)GPU : Apple GPU (5-core)Capacità ROM : 128GbCapacità RAM : 6GbDisplay : LTPO Super Retina XDR OLED, 120HzDimensione display : 6.1 inches, 91.7 cm2 (87.0% screen-to-body)Risoluzione : 1179 x 2556 pixels, 19.5:9Sd card : NoSIM : Dual SIM (Nano-SIM and eSIM) o Dual eSIMFotocamere principali :* 48 MP, f/1.8, 24mm (wide)* 12 MP, f/2.8, 77mm (telephoto)* 12 MP, f/2.2, 13mm, 120˚ (ultrawide)* TOF 3D LiDAR scanner (depth)Fotocamere selfie :* 12 MP, f/1.9, 23mm (wide)* SL 3D, (depth/biometrics sensor)Wlan : Wi-Fi 802.11 a/b/g/n/ac/6, dual-band, hotspotBluetooth : 5.3Gps : SìNFC : SìBatteria : ioni di litio con fast charging 50% in 30 minutiRecensione:A livello di design e materiali ci troviamo di fronte a quello che Apple si porta dietro da un paio di generazioni, un connubio di acciaio inossidabile e vetro che sfocia in dimensioni e peso leggerissimamente maggiori rispetto ad iPhone 13 Pro.Il display OLED è simile ad iPhone 13 PRO per quanto rigurda tecnologia e ppi, però presenta una risoluzione maggiore ed un aumento sostanzioso della luminosità capace di affrontare egregiamente giornate con sole pieno. A livello di connubio hardware e software il cambiamento principale è l'eliminazione del notch con l'introduzione del Dynamic Island. Ma cosa è? Praticamente si tratta di uno spazio posto in alto sul display dove risiedono la fotocamera selfie ed il sensore depth che viene utilizzato sia per notifiche che per accedere a funzionalità. Tale spazio ha la capacità di ingrandirsi e rimpicciolirsi visivamente (non fisicamente) a seconda dell'attività in atto e dipenderà tutto da quello che l'utente sta facendo, anche interagendo con la medesima (cioè uno scroll col dito sull'isola potrà farne cambiare la forma). Voglio essere sincero, è uno spettacolo vederlo in azione: ad esempio se riproducete un brano musicale e poi tornate nella schermata principale vedrete nella pillola una piccola finestra con un player, la copertina dell'album e le informazioni sul brano riprodotto, premendo poi sull isola apparirà un pop-up con altre informazioni. Ma non è tutto: se viene avviato un timer verrà visualizzato anch'esso sulla pillola!!!Sempre parlando di display, è stata introdotta la modalità \"sempre acceso\" che si attiva premendo il pulsante laterale e che vi permetterà di visualizzare notifiche e quant'altro con il minimo consumo di batteria, io mi ci sono trovato benissimo. Inoltre, come già accennavo in precedenza, è presente la frequenza di aggiornamento variabile, altra manna dal cielo per la durata della batteria: in pratica il refresh rate aumenterà solo quando vi è interazione o necessità e sarà basso quando starete visualizzando ad esempio le notifiche, davvero un qualcosa di graditissimo anche perchè non ve ne accorgerete minimamente.Insomma, il display è un qualcosa di fantastico sia a livello visivo che ingegneristico/funzionale.I pulsanti presenti sono praticamente gli stessi: accensione/spegnimento/chiamata Siri, controllor del volume, levetta per silenziare. Vi è poi lo slot laterale per la sim. Il connettore è rimasto Lightning, cosa che non mi piace per nulla, ma a breve Apple dovrà cambiare per forza ed adattarsi ai nuovi standard (finalmente).La batteria dura effettivamente circa 24 ore con un uso abbastanza intensivo, rimane sempre pochino per il prezzo pagato, soprattutto se il wattaggio massimo di ricarica è di 20W.C'è sempre il fast charging che vi ricarica il 50% in 30 minuti.Il cuore di questo iPhone è secondo me la punta di diamante ed il vero passo avanti generazionale, sto parlando del chip A16. Questo, in collaborazione con la GPU, il Neural Engine ed il processore di immagini genera una risposta fluida, immediata, senza alcun delay anche con i giochi più pesanti, ma questo non mi ha assolutamente sorpreso perchè Apple è brava sicuramente in una cosa: sviluppare hardware che viaggia al massimo grazie al suo software quasi senza lacune. Di fatti tutti i vantaggi prestazionali affiorano grazie ad iOS 16 che è stato praticamente sviluppato per andare a braccetto con il chip A16 per sfruttarlo ai massimi livelli. Il nuovo sistema operativo porta con se nuove soluzioni anche a livello estetico come la nuova schermata di blocco, i nuovi widget personalizzabili ove poter far apparire informazioni multiple.Il comparto fotografico vi dico immediatamente che ha fatto un enorme passo avanti con le foto in situazioni di scarsa luminosità, un qualcosa di incredibile.Abbiamo l'introduzione di un sensore principale da 48MP ed un sensibile miglioramente degli altri due (tre se consideriamo quello depth), dunque vi è un vero e proprio upgrade rispetto ad iPhone 13 PRO. Il sensore principale ha la caratteristica di riuscire a fondere 4 pixel e combinarli in uno unico per migliorare l'acquisizione in condizioni di scarsa luminosità, cosa che già viene fatta su Android ma i cui risultati non sono assolutamente paragonabili e sbalorditivi come su iphone 14 PRO, questo anche grazie al nuovo sistema hw pipeline di immagini denominato Photonic Engine. Lo zoom ottico è rimasto 3x, ma è stata introdotta una funzionalità per fondersi con quello nuovo da 48MP per creare foto 2x a 12 MP che vi dico già sono strepitose. Per il comparto video vi è una nuova modalità action con registrazioni molto più fluide e la possibilità di usare la modalità cinema 4kPrezzo su Amazon al momento della recensione : 1.339,00€\n",
      " 1.339,00€\n",
      "3\n",
      "mijito 5,0 su 5 stelle Top smartphone \n",
      "Voy a comentar primero del dynamic island que es lo más interesante del nuevo Iphone pro: es tal como lo anuncian, los estados de las apps van por allí, tales como música, navegación, teléfono... Es muy chulo la verdad, sin embargo, dado que es algo nuevo que acaba de salir, algunas apps no han sacado todavía tales como Uber, etc, para poder poner sus estados en el nuevo notch. Pero es cuestión de tiempo a que actualicen.Por otro lado, el nuevo always in display y la nueva pantalla de bloqueo del IOS 16 de momento solamente puedes agregar widgets de apps originales de Apple, los de terceros como Google tardan aún.Y los demás aspectos todo perfecto por mí.\n",
      " 1.339,00€\n",
      "4\n",
      "Cliente Amazon 3,0 su 5 stelle tan caro para estooo?? \n",
      "como telefono bien bateria poca duracion muy caro para lo que es en si el terminal la proxima me compro un samsung\n",
      " 1.339,00€\n",
      "5\n",
      "JOSE 5,0 su 5 stelle De los mejores \n",
      "Por ahora no na dado problemas, es de buena calidad. Ojo al coloarla el noch queda muy justo\n",
      " 1.339,00€\n",
      "6\n",
      "Juli Bravo 5,0 su 5 stelle Impresionante en fluidez, foto y video \n",
      "Lo mejor que he tenido\n",
      " 1.339,00€\n",
      "7\n",
      "Eva Gómez Arnedillo  5,0 su 5 stelle Bien \n",
      "Me lo esperaba mejor\n",
      " 1.339,00€\n"
     ]
    }
   ],
   "source": [
    "for i in range(1,len(all_reviews)):\n",
    "    price=product1_page.find_all('span',{'class':'a-offscreen'})[0].text\n",
    "    long_comments = bs(all_reviews[i].find_all('div',{'class':\"a-expander-content reviewText review-text-content a-expander-partial-collapse-content\"})[0].text,'html.parser')\n",
    "    print(i)\n",
    "    if bool(len(all_reviews[i].find_all('a',{'class':'a-size-base a-link-normal review-title a-color-base review-title-content a-text-bold'}))):\n",
    "        comment_header = bs(all_reviews[i].find_all('a',{'class':'a-size-base a-link-normal review-title a-color-base review-title-content a-text-bold'})[0].text,'html.parser')\n",
    "    else:\n",
    "        comment_header = all_reviews[i].find_all('span',{'class':'cr-original-review-content'})[0].text\n",
    "           \n",
    "    name = all_reviews[i].find_all('div',{'class':'a-profile-content'})[0].text\n",
    "    rating = all_reviews[i].find_all('span', {'class':\"a-icon-alt\"})[0].text\n",
    "    \n",
    "    print(name,rating,comment_header,long_comments,price)\n"
   ]
  },
  {
   "cell_type": "code",
   "execution_count": 29,
   "id": "5f67007d",
   "metadata": {},
   "outputs": [
    {
     "ename": "ModuleNotFoundError",
     "evalue": "No module named 'mysql.connector.conn'",
     "output_type": "error",
     "traceback": [
      "\u001b[1;31m---------------------------------------------------------------------------\u001b[0m",
      "\u001b[1;31mModuleNotFoundError\u001b[0m                       Traceback (most recent call last)",
      "Input \u001b[1;32mIn [29]\u001b[0m, in \u001b[0;36m<cell line: 1>\u001b[1;34m()\u001b[0m\n\u001b[1;32m----> 1\u001b[0m \u001b[38;5;28;01mimport\u001b[39;00m \u001b[38;5;21;01mmysql\u001b[39;00m\u001b[38;5;21;01m.\u001b[39;00m\u001b[38;5;21;01mconnector\u001b[39;00m\u001b[38;5;21;01m.\u001b[39;00m\u001b[38;5;21;01mconn\u001b[39;00m\n",
      "\u001b[1;31mModuleNotFoundError\u001b[0m: No module named 'mysql.connector.conn'"
     ]
    }
   ],
   "source": [
    "import mysql.connector.conn"
   ]
  },
  {
   "cell_type": "code",
   "execution_count": null,
   "id": "d74a8799",
   "metadata": {},
   "outputs": [],
   "source": [
    "mydb = conn.connect(host= 'localhost', user='root', passwd='pass123')\n",
    "cursor = mydb.cursor()\n",
    "cursor.execute(\"create database if not exists review_scrapper\")\n",
    "cursor.exectue(\"create table if not exists review_scrapper.storereview(price varchar(30), comment_header varchar(90), name varchar(90), rating varchar(90), long_comments varchar)\")"
   ]
  },
  {
   "cell_type": "code",
   "execution_count": 28,
   "id": "59c8cd30",
   "metadata": {},
   "outputs": [
    {
     "name": "stdout",
     "output_type": "stream",
     "text": [
      "Requirement already satisfied: mysql.connector in c:\\users\\manoj\\anaconda3\\lib\\site-packages (2.2.9)\n"
     ]
    }
   ],
   "source": [
    "!pip install mysql.connector"
   ]
  },
  {
   "cell_type": "code",
   "execution_count": 30,
   "id": "3623597d",
   "metadata": {},
   "outputs": [
    {
     "data": {
      "text/plain": [
       "'3.9.12'"
      ]
     },
     "execution_count": 30,
     "metadata": {},
     "output_type": "execute_result"
    }
   ],
   "source": [
    "from platform import python_version\n",
    "python_version() "
   ]
  },
  {
   "cell_type": "code",
   "execution_count": null,
   "id": "e1fa2a24",
   "metadata": {},
   "outputs": [],
   "source": []
  }
 ],
 "metadata": {
  "kernelspec": {
   "display_name": "Python 3 (ipykernel)",
   "language": "python",
   "name": "python3"
  },
  "language_info": {
   "codemirror_mode": {
    "name": "ipython",
    "version": 3
   },
   "file_extension": ".py",
   "mimetype": "text/x-python",
   "name": "python",
   "nbconvert_exporter": "python",
   "pygments_lexer": "ipython3",
   "version": "3.9.12"
  }
 },
 "nbformat": 4,
 "nbformat_minor": 5
}
