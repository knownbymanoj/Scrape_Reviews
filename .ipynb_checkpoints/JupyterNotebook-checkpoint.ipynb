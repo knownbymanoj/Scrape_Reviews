{
 "cells": [
  {
   "cell_type": "code",
   "execution_count": 1,
   "id": "af28f011",
   "metadata": {},
   "outputs": [],
   "source": [
    "from flask import Flask, render_template, request, jsonify"
   ]
  },
  {
   "cell_type": "code",
   "execution_count": 2,
   "id": "2b2afdeb",
   "metadata": {},
   "outputs": [],
   "source": [
    "import requests"
   ]
  },
  {
   "cell_type": "code",
   "execution_count": 3,
   "id": "fc13770f",
   "metadata": {},
   "outputs": [],
   "source": [
    "from bs4 import BeautifulSoup as bs"
   ]
  },
  {
   "cell_type": "code",
   "execution_count": 4,
   "id": "75e25518",
   "metadata": {},
   "outputs": [],
   "source": [
    "from urllib.request import urlopen as urReq"
   ]
  },
  {
   "cell_type": "code",
   "execution_count": 5,
   "id": "337309da",
   "metadata": {},
   "outputs": [],
   "source": [
    "amazon_url = \"https://www.amazon.it/s?k=iphone+14+pro\""
   ]
  },
  {
   "cell_type": "code",
   "execution_count": 6,
   "id": "2110ac76",
   "metadata": {},
   "outputs": [
    {
     "data": {
      "text/plain": [
       "'https://www.amazon.it/s?k=iphone+14+pro'"
      ]
     },
     "execution_count": 6,
     "metadata": {},
     "output_type": "execute_result"
    }
   ],
   "source": [
    "amazon_url"
   ]
  },
  {
   "cell_type": "code",
   "execution_count": 7,
   "id": "e7c0b3bd",
   "metadata": {},
   "outputs": [],
   "source": [
    "response_website = urReq(amazon_url)"
   ]
  },
  {
   "cell_type": "code",
   "execution_count": 8,
   "id": "f13c03af",
   "metadata": {},
   "outputs": [],
   "source": [
    "data_amazon = response_website.read()# This information is not readable"
   ]
  },
  {
   "cell_type": "code",
   "execution_count": 9,
   "id": "f924aaf3",
   "metadata": {},
   "outputs": [],
   "source": [
    "#So we use BeautifulSoup to represent the Source code beautifully\n",
    "beautify_html = bs(data_amazon,\"html.parser\")"
   ]
  },
  {
   "cell_type": "code",
   "execution_count": 10,
   "id": "d151a165",
   "metadata": {},
   "outputs": [],
   "source": [
    "#Get list of all classes available in div tags.\n",
    "classes = beautify_html.find_all(\"div\",{\"class\":\"sg-col-4-of-12 s-result-item s-asin sg-col-4-of-16 sg-col s-widget-spacing-small sg-col-4-of-20\"})"
   ]
  },
  {
   "cell_type": "code",
   "execution_count": 11,
   "id": "bffefabf",
   "metadata": {},
   "outputs": [
    {
     "data": {
      "text/plain": [
       "48"
      ]
     },
     "execution_count": 11,
     "metadata": {},
     "output_type": "execute_result"
    }
   ],
   "source": [
    "#number of items available\n",
    "len(classes)"
   ]
  },
  {
   "cell_type": "code",
   "execution_count": 79,
   "id": "316f4861",
   "metadata": {},
   "outputs": [
    {
     "data": {
      "text/plain": [
       "'/Apple-iPhone-14-Pro-128/dp/B0BDKJKGSN'"
      ]
     },
     "execution_count": 79,
     "metadata": {},
     "output_type": "execute_result"
    }
   ],
   "source": [
    "classes[0].div.div.h2.a['href']"
   ]
  },
  {
   "cell_type": "code",
   "execution_count": 13,
   "id": "9926514e",
   "metadata": {},
   "outputs": [],
   "source": [
    "product1 = \"https://www.amazon.it\" + \"/Apple-iPhone-14-Pro-128/dp/B0BDKWLP8P\""
   ]
  },
  {
   "cell_type": "code",
   "execution_count": 14,
   "id": "009006ee",
   "metadata": {},
   "outputs": [],
   "source": [
    "product11 = requests.get(product1)"
   ]
  },
  {
   "cell_type": "code",
   "execution_count": 15,
   "id": "89885fb8",
   "metadata": {},
   "outputs": [
    {
     "data": {
      "text/plain": [
       "'https://www.amazon.it/Apple-iPhone-14-Pro-128/dp/B0BDKWLP8P'"
      ]
     },
     "execution_count": 15,
     "metadata": {},
     "output_type": "execute_result"
    }
   ],
   "source": [
    "product1"
   ]
  },
  {
   "cell_type": "code",
   "execution_count": 16,
   "id": "83d10c40",
   "metadata": {},
   "outputs": [],
   "source": [
    "product11.encoding=\"utf-8\""
   ]
  },
  {
   "cell_type": "code",
   "execution_count": 17,
   "id": "a07eacbc",
   "metadata": {},
   "outputs": [],
   "source": [
    "product1_page=bs(product11.text,\"html.parser\")"
   ]
  },
  {
   "cell_type": "code",
   "execution_count": 39,
   "id": "7b66bde2",
   "metadata": {},
   "outputs": [],
   "source": [
    "all_reviews = product1_page.find_all('div',{'class':'a-section celwidget'})"
   ]
  },
  {
   "cell_type": "code",
   "execution_count": 40,
   "id": "2ef40189",
   "metadata": {},
   "outputs": [
    {
     "data": {
      "text/plain": [
       "8"
      ]
     },
     "execution_count": 40,
     "metadata": {},
     "output_type": "execute_result"
    }
   ],
   "source": [
    "#No of list available is \n",
    "len(all_reviews)"
   ]
  },
  {
   "cell_type": "code",
   "execution_count": 92,
   "id": "49ef60b1",
   "metadata": {},
   "outputs": [
    {
     "data": {
      "text/plain": [
       "'5,0 su 5 stelle'"
      ]
     },
     "execution_count": 92,
     "metadata": {},
     "output_type": "execute_result"
    }
   ],
   "source": [
    "rating = all_reviews[1].find_all('a', {'class':\"a-link-normal\"})[0].text\n"
   ]
  },
  {
   "cell_type": "code",
   "execution_count": 97,
   "id": "60c7fb6e",
   "metadata": {},
   "outputs": [
    {
     "data": {
      "text/plain": [
       "\"Angelo D'Amico (Realdamico)\""
      ]
     },
     "execution_count": 97,
     "metadata": {},
     "output_type": "execute_result"
    }
   ],
   "source": [
    "name = all_reviews[1].find_all('div',{'class':'a-profile-content'})[0].text"
   ]
  },
  {
   "cell_type": "code",
   "execution_count": 107,
   "id": "30ee77ef",
   "metadata": {},
   "outputs": [],
   "source": [
    "comment_header = bs(all_reviews[1].find_all('a',{'class':'a-size-base a-link-normal review-title a-color-base review-title-content a-text-bold'})[0].text,'html.parser')"
   ]
  },
  {
   "cell_type": "code",
   "execution_count": 113,
   "id": "15b0fc6d",
   "metadata": {},
   "outputs": [],
   "source": [
    "comment = bs(all_reviews[1].find_all('div',{'class':\"a-expander-content reviewText review-text-content a-expander-partial-collapse-content\"})[0].text,'html.parser')"
   ]
  },
  {
   "cell_type": "code",
   "execution_count": 123,
   "id": "012edbda",
   "metadata": {},
   "outputs": [],
   "source": [
    "place_date = all_reviews[1].find_all('span',{'class':'a-size-base a-color-secondary review-date'})[0].text"
   ]
  },
  {
   "cell_type": "code",
   "execution_count": null,
   "id": "4b232018",
   "metadata": {},
   "outputs": [],
   "source": []
  }
 ],
 "metadata": {
  "kernelspec": {
   "display_name": "Python 3 (ipykernel)",
   "language": "python",
   "name": "python3"
  },
  "language_info": {
   "codemirror_mode": {
    "name": "ipython",
    "version": 3
   },
   "file_extension": ".py",
   "mimetype": "text/x-python",
   "name": "python",
   "nbconvert_exporter": "python",
   "pygments_lexer": "ipython3",
   "version": "3.9.12"
  }
 },
 "nbformat": 4,
 "nbformat_minor": 5
}
